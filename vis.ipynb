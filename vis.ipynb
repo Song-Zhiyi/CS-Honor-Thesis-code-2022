{
 "cells": [
  {
   "cell_type": "code",
   "execution_count": 5,
   "metadata": {},
   "outputs": [],
   "source": [
    "from exp_loader import ExperimentLoader\n",
    "from IPython.display import display\n",
    "import pandas as pd\n",
    "\n",
    "exp = ExperimentLoader(\"result\")\n",
    "exp.clean_saved_models(1, dry_run=False)\n",
    "result = exp.results"
   ]
  },
  {
   "cell_type": "code",
   "execution_count": null,
   "metadata": {},
   "outputs": [],
   "source": [
    "GROUPBY_KEY = [\"embeddings_name\", \"data_name\"]\n",
    "METRICS_NAME = [\n",
    "    \"train_loss\", \"val_loss\", \"train_precision\", \"train_recall\", \n",
    "    \"train_f1\", \"val_precision\", \"val_recall\", \"val_f1\"\n",
    "]\n",
    "CATEGORICAL_NAMES = [\"chunk_size\", \"n_epoch\"]\n",
    "TO_REMOVE = [\"n_train\", \"n_val\", \"ns_start\", \"ns_end\", \"repeat\", \"epoch\"]\n",
    "def best_model_pre_repeat(result: pd.DataFrame):\n",
    "    tmp = []\n",
    "    for k, df in result.groupby([\"experiment_id\"] + GROUPBY_KEY + [\"repeat\"]):\n",
    "        df: pd.DataFrame\n",
    "        tmp.append(\n",
    "            df.sort_values(by=\"val_loss\")[:1]\n",
    "        )\n",
    "    return pd.concat(tmp)\n",
    "\n",
    "\n",
    "def get_metrics(result: pd.DataFrame) -> pd.DataFrame:\n",
    "    df = best_model_pre_repeat(result)\n",
    "    df.drop(columns=[\"experiment_id\"])\n",
    "    return df[GROUPBY_KEY + METRICS_NAME]\n",
    "\n",
    "metrics = get_metrics(result)\n",
    "print(metrics.groupby([\"data_name\", \"embeddings_name\"])[['val_loss']].count())\n",
    "\n",
    "metrics.groupby([\"data_name\", \"embeddings_name\"]).mean()[['val_loss', 'val_recall']].sort_values(by=[\"val_loss\", \"val_recall\"])\n",
    "metrics.boxplot(column=[\"val_loss\"], by=[\"data_name\", \"embeddings_name\"], rot=90)\n",
    "metrics.boxplot(column=[\"val_recall\"], by=[\"data_name\", \"embeddings_name\"], rot=90)\n"
   ]
  }
 ],
 "metadata": {
  "interpreter": {
   "hash": "e7370f93d1d0cde622a1f8e1c04877d8463912d04d973331ad4851f04de6915a"
  },
  "kernelspec": {
   "display_name": "Python 3.10.2 64-bit",
   "language": "python",
   "name": "python3"
  },
  "language_info": {
   "codemirror_mode": {
    "name": "ipython",
    "version": 3
   },
   "file_extension": ".py",
   "mimetype": "text/x-python",
   "name": "python",
   "nbconvert_exporter": "python",
   "pygments_lexer": "ipython3",
   "version": "3.10.4"
  },
  "orig_nbformat": 4
 },
 "nbformat": 4,
 "nbformat_minor": 2
}
